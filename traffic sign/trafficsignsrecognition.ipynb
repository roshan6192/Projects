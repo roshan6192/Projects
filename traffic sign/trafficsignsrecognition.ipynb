{
 "cells": [
  {
   "cell_type": "code",
   "execution_count": 1,
   "id": "28f0cb6e",
   "metadata": {},
   "outputs": [],
   "source": [
    "#Imports"
   ]
  },
  {
   "cell_type": "code",
   "execution_count": 2,
   "id": "8c1f13cb",
   "metadata": {},
   "outputs": [],
   "source": [
    "import numpy as np\n",
    "import pandas as pd\n",
    "import matplotlib.pyplot as plt\n",
    "import tensorflow as tf\n",
    "from PIL import Image\n",
    "import os\n",
    "from sklearn.model_selection import train_test_split\n",
    "from keras.utils import to_categorical\n",
    "from keras.models import Sequential\n",
    "from keras.layers import Conv2D, MaxPool2D, Dense, Flatten, Dropout"
   ]
  },
  {
   "cell_type": "code",
   "execution_count": 5,
   "id": "e891254a",
   "metadata": {},
   "outputs": [],
   "source": [
    "data = []\n",
    "labels = []\n",
    "classes = 43\n",
    "cur_path = os.getcwd()\n",
    "\n",
    "for i in range(classes):\n",
    "    path = os.path.join(cur_path, 'train', str(i))\n",
    "    images = os.listdir(path)\n",
    "    \n",
    "    for a in images:\n",
    "        try:\n",
    "            image = Image.open(path + '\\\\' + a)\n",
    "            image = image.resize((30,30))\n",
    "            image = np.array(image)\n",
    "            data.append(image)\n",
    "            labels.append(i)\n",
    "        except:\n",
    "            print('Error loading image')\n",
    "data = np.array(data)\n",
    "labels = np.array(labels)"
   ]
  },
  {
   "cell_type": "code",
   "execution_count": 6,
   "id": "190fe0f7",
   "metadata": {},
   "outputs": [
    {
     "name": "stdout",
     "output_type": "stream",
     "text": [
      "(39209, 30, 30, 3) (39209,)\n",
      "(31367, 30, 30, 3) (7842, 30, 30, 3) (31367,) (7842,)\n"
     ]
    }
   ],
   "source": [
    "print(data.shape, labels.shape)\n",
    "X_train, X_test, y_train, y_test = train_test_split(data, labels, test_size=0.2, random_state=42)\n",
    "\n",
    "print(X_train.shape, X_test.shape, y_train.shape, y_test.shape)\n",
    "\n",
    "y_train = to_categorical(y_train, 43)\n",
    "y_test = to_categorical(y_test, 43)"
   ]
  },
  {
   "cell_type": "code",
   "execution_count": 7,
   "id": "2bf0ccde",
   "metadata": {},
   "outputs": [],
   "source": [
    "#Build a CNN model"
   ]
  },
  {
   "cell_type": "code",
   "execution_count": 11,
   "id": "51f1f281",
   "metadata": {},
   "outputs": [],
   "source": [
    "model = Sequential()\n",
    "model.add(Conv2D(filters=32, kernel_size=(5,5), activation='relu', input_shape=X_train.shape[1:]))\n",
    "model.add(Conv2D(filters=32, kernel_size=(5,5), activation='relu'))\n",
    "model.add(MaxPool2D(pool_size=(2, 2)))\n",
    "model.add(Dropout(rate=0.25))\n",
    "model.add(Conv2D(filters=64, kernel_size=(3, 3), activation='relu'))\n",
    "model.add(Conv2D(filters=64, kernel_size=(3, 3), activation='relu'))\n",
    "model.add(MaxPool2D(pool_size=(2, 2)))\n",
    "model.add(Dropout(rate=0.25))\n",
    "model.add(Flatten())\n",
    "model.add(Dense(256, activation='relu'))\n",
    "model.add(Dropout(rate=0.5))\n",
    "model.add(Dense(43, activation='softmax'))"
   ]
  },
  {
   "cell_type": "code",
   "execution_count": 12,
   "id": "da8ee835",
   "metadata": {},
   "outputs": [],
   "source": [
    "#Compile the model"
   ]
  },
  {
   "cell_type": "code",
   "execution_count": 13,
   "id": "f11ec65c",
   "metadata": {},
   "outputs": [],
   "source": [
    "model.compile(loss='categorical_crossentropy', optimizer='adam', metrics=['accuracy'])\n"
   ]
  },
  {
   "cell_type": "code",
   "execution_count": 14,
   "id": "ddf69ccf",
   "metadata": {},
   "outputs": [],
   "source": [
    "#Train and validate te model and save"
   ]
  },
  {
   "cell_type": "code",
   "execution_count": 17,
   "id": "c9bf4184",
   "metadata": {},
   "outputs": [
    {
     "name": "stdout",
     "output_type": "stream",
     "text": [
      "Epoch 1/15\n",
      "981/981 [==============================] - 93s 92ms/step - loss: 3.5968 - accuracy: 0.0532 - val_loss: 3.4833 - val_accuracy: 0.0574\n",
      "Epoch 2/15\n",
      "981/981 [==============================] - 84s 86ms/step - loss: 3.4978 - accuracy: 0.0562 - val_loss: 3.4804 - val_accuracy: 0.0576\n",
      "Epoch 3/15\n",
      "981/981 [==============================] - 83s 85ms/step - loss: 3.4964 - accuracy: 0.0559 - val_loss: 3.4795 - val_accuracy: 0.0574\n",
      "Epoch 4/15\n",
      "981/981 [==============================] - 83s 85ms/step - loss: 3.4957 - accuracy: 0.0542 - val_loss: 3.4794 - val_accuracy: 0.0574\n",
      "Epoch 5/15\n",
      "981/981 [==============================] - 84s 86ms/step - loss: 3.4954 - accuracy: 0.0556 - val_loss: 3.4791 - val_accuracy: 0.0576\n",
      "Epoch 6/15\n",
      "981/981 [==============================] - 80s 82ms/step - loss: 3.4927 - accuracy: 0.0535 - val_loss: 3.4799 - val_accuracy: 0.0471\n",
      "Epoch 7/15\n",
      "981/981 [==============================] - 80s 82ms/step - loss: 3.4965 - accuracy: 0.0568 - val_loss: 3.4777 - val_accuracy: 0.0632\n",
      "Epoch 8/15\n",
      "981/981 [==============================] - 80s 81ms/step - loss: 3.4926 - accuracy: 0.0548 - val_loss: 3.4788 - val_accuracy: 0.0574\n",
      "Epoch 9/15\n",
      "981/981 [==============================] - 80s 82ms/step - loss: 3.4927 - accuracy: 0.0551 - val_loss: 3.4797 - val_accuracy: 0.0574\n",
      "Epoch 10/15\n",
      "981/981 [==============================] - 80s 81ms/step - loss: 3.4924 - accuracy: 0.0555 - val_loss: 3.4795 - val_accuracy: 0.0632\n",
      "Epoch 11/15\n",
      "981/981 [==============================] - 79s 81ms/step - loss: 3.4914 - accuracy: 0.0544 - val_loss: 3.4784 - val_accuracy: 0.0632\n",
      "Epoch 12/15\n",
      "981/981 [==============================] - 79s 81ms/step - loss: 3.4917 - accuracy: 0.0552 - val_loss: 3.4790 - val_accuracy: 0.0632\n",
      "Epoch 13/15\n",
      "981/981 [==============================] - 80s 81ms/step - loss: 3.4910 - accuracy: 0.0574 - val_loss: 3.4797 - val_accuracy: 0.0574\n",
      "Epoch 14/15\n",
      "981/981 [==============================] - 80s 81ms/step - loss: 3.4916 - accuracy: 0.0547 - val_loss: 3.4789 - val_accuracy: 0.0574\n",
      "Epoch 15/15\n",
      "981/981 [==============================] - 79s 81ms/step - loss: 3.4911 - accuracy: 0.0548 - val_loss: 3.4797 - val_accuracy: 0.0574\n"
     ]
    }
   ],
   "source": [
    "epochs = 15\n",
    "history = model.fit(X_train, y_train, batch_size=32, epochs=epochs, validation_data=(X_test, y_test))"
   ]
  },
  {
   "cell_type": "code",
   "execution_count": 18,
   "id": "6dd744d5",
   "metadata": {},
   "outputs": [],
   "source": [
    "model.save('my_model.h5')"
   ]
  },
  {
   "cell_type": "code",
   "execution_count": 19,
   "id": "6fdeacd5",
   "metadata": {},
   "outputs": [],
   "source": [
    "#Plotting graphs for accuracy"
   ]
  },
  {
   "cell_type": "code",
   "execution_count": 32,
   "id": "64eea1f1",
   "metadata": {},
   "outputs": [
    {
     "data": {
      "image/png": "[encoded data removed]",
      "text/plain": [
       "<Figure size 432x288 with 1 Axes>"
      ]
     },
     "metadata": {
      "needs_background": "light"
     },
     "output_type": "display_data"
    },
    {
     "data": {
      "text/plain": [
       "<matplotlib.legend.Legend at 0x1f9f8718fa0>"
      ]
     },
     "execution_count": 32,
     "metadata": {},
     "output_type": "execute_result"
    },
    {
     "data": {
      "image/png": "[encoded data removed]",
      "text/plain": [
       "<Figure size 432x288 with 1 Axes>"
      ]
     },
     "metadata": {
      "needs_background": "light"
     },
     "output_type": "display_data"
    }
   ],
   "source": [
    "plt.figure(0)\n",
    "plt.plot(history.history['loss'], label='training loss')\n",
    "plt.plot(history.history['val_loss'], label='val loss')\n",
    "plt.title('Loss')\n",
    "plt.xlabel('epochs')\n",
    "plt.ylabel('loss')\n",
    "plt.legend()\n",
    "plt.show()\n",
    "\n",
    "plt.figure(1)\n",
    "plt.plot(history.history['accuracy'], label='training accuracy')\n",
    "plt.plot(history.history['val_accuracy'], label='val accuracy')\n",
    "plt.title('Accuracy')\n",
    "plt.xlabel('epochs')\n",
    "plt.ylabel('accuracy')\n",
    "plt.legend()"
   ]
  },
  {
   "cell_type": "code",
   "execution_count": 21,
   "id": "92de803f",
   "metadata": {},
   "outputs": [],
   "source": [
    "#Testing accuracy on test dataset"
   ]
  },
  {
   "cell_type": "code",
   "execution_count": 27,
   "id": "cff3c391",
   "metadata": {},
   "outputs": [
    {
     "name": "stderr",
     "output_type": "stream",
     "text": [
      "C:\\Users\\User\\AppData\\Roaming\\Python\\Python38\\site-packages\\tensorflow\\python\\keras\\engine\\sequential.py:454: UserWarning: `model.predict_classes()` is deprecated and will be removed after 2021-01-01. Please use instead:* `np.argmax(model.predict(x), axis=-1)`,   if your model does multi-class classification   (e.g. if it uses a `softmax` last-layer activation).* `(model.predict(x) > 0.5).astype(\"int32\")`,   if your model does binary classification   (e.g. if it uses a `sigmoid` last-layer activation).\n",
      "  warnings.warn('`model.predict_classes()` is deprecated and '\n"
     ]
    }
   ],
   "source": [
    "from sklearn.metrics import accuracy_score\n",
    "\n",
    "y_test = pd.read_csv('Test.csv')\n",
    "\n",
    "labels = y_test[\"ClassId\"].values\n",
    "imgs = y_test[\"Path\"].values\n",
    "\n",
    "data=[]\n",
    "\n",
    "for img in imgs:\n",
    "    image = Image.open(img)\n",
    "    image = image.resize((30,30))\n",
    "    data.append(np.array(image))\n",
    "\n",
    "X_test=np.array(data)\n",
    "\n",
    "pred = model.predict_classes(X_test)"
   ]
  },
  {
   "cell_type": "code",
   "execution_count": 28,
   "id": "bb3ec4a2",
   "metadata": {},
   "outputs": [],
   "source": [
    "#Accuracy with the test data"
   ]
  },
  {
   "cell_type": "code",
   "execution_count": 31,
   "id": "32ae610b",
   "metadata": {},
   "outputs": [
    {
     "name": "stdout",
     "output_type": "stream",
     "text": [
      "0.05938242280285035\n"
     ]
    }
   ],
   "source": [
    "from sklearn.metrics import accuracy_score\n",
    "print(accuracy_score(labels, pred))"
   ]
  },
  {
   "cell_type": "code",
   "execution_count": 33,
   "id": "1fd8eaaa",
   "metadata": {},
   "outputs": [],
   "source": [
    "#save the model"
   ]
  },
  {
   "cell_type": "code",
   "execution_count": 34,
   "id": "2f9985f6",
   "metadata": {},
   "outputs": [],
   "source": [
    "model.save('traffic_classifier.h5')"
   ]
  },
  {
   "cell_type": "code",
   "execution_count": null,
   "id": "8cd31b57",
   "metadata": {},
   "outputs": [],
   "source": []
  }
 ],
 "metadata": {
  "kernelspec": {
   "display_name": "Python 3.8 (tensorflow)",
   "language": "python",
   "name": "tensorflow"
  },
  "language_info": {
   "codemirror_mode": {
    "name": "ipython",
    "version": 3
   },
   "file_extension": ".py",
   "mimetype": "text/x-python",
   "name": "python",
   "nbconvert_exporter": "python",
   "pygments_lexer": "ipython3",
   "version": "3.8.12"
  }
 },
 "nbformat": 4,
 "nbformat_minor": 5
}
